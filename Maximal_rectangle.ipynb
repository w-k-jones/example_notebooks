{
 "cells": [
  {
   "cell_type": "markdown",
   "metadata": {},
   "source": [
    "Finding the largest area rectangle within a masked array"
   ]
  },
  {
   "cell_type": "code",
   "execution_count": 1,
   "metadata": {},
   "outputs": [],
   "source": [
    "import numpy as np\n",
    "from scipy import ndimage as ndi"
   ]
  },
  {
   "cell_type": "code",
   "execution_count": 4,
   "metadata": {},
   "outputs": [
    {
     "data": {
      "text/plain": [
       "array([[1., 1., 1., 0., 0., 1.],\n",
       "       [0., 0., 0., 0., 0., 1.],\n",
       "       [0., 0., 0., 0., 0., 1.],\n",
       "       [1., 0., 0., 0., 0., 0.],\n",
       "       [1., 0., 0., 0., 0., 0.],\n",
       "       [1., 0., 0., 1., 1., 1.]])"
      ]
     },
     "execution_count": 4,
     "metadata": {},
     "output_type": "execute_result"
    }
   ],
   "source": [
    "test_array = np.zeros([6,6])\n",
    "test_array[0,:3] = 1\n",
    "test_array[3:,0] = 1\n",
    "test_array[-1,3:] = 1\n",
    "test_array[:3,-1] = 1\n",
    "test_array"
   ]
  },
  {
   "cell_type": "markdown",
   "metadata": {},
   "source": [
    "max area should be 16, with the slice [1:5, 1:5]"
   ]
  },
  {
   "cell_type": "code",
   "execution_count": 20,
   "metadata": {},
   "outputs": [],
   "source": [
    "structure = np.zeros([3,3])\n",
    "structure[1] = 1"
   ]
  },
  {
   "cell_type": "code",
   "execution_count": 28,
   "metadata": {},
   "outputs": [],
   "source": [
    "row_labels = ndi.label(np.logical_not(test_array), structure)[0]\n",
    "col_labels = ndi.label(np.logical_not(test_array), structure.T)[0]\n",
    "\n",
    "row_label_counts = np.bincount(row_labels.ravel())\n",
    "col_label_counts = np.bincount(col_labels.ravel())"
   ]
  },
  {
   "cell_type": "code",
   "execution_count": 79,
   "metadata": {},
   "outputs": [],
   "source": [
    "row_ids = np.zeros(test_array.shape, dtype=int)\n",
    "row_ids.ravel()[np.argsort(row_labels.ravel(), kind='mergesort')] = np.arange(row_ids.size)\n",
    "row_ids -= np.cumsum(np.concatenate([[0],row_label_counts[:-1]]))[row_labels]"
   ]
  },
  {
   "cell_type": "code",
   "execution_count": 80,
   "metadata": {},
   "outputs": [],
   "source": [
    "col_ids = np.zeros(test_array.shape, dtype=int)\n",
    "col_ids.ravel()[np.argsort(col_labels.ravel(), kind='mergesort')] = np.arange(col_ids.size)\n",
    "col_ids -= np.cumsum(np.concatenate([[0],col_label_counts[:-1]]))[col_labels]"
   ]
  },
  {
   "cell_type": "code",
   "execution_count": 96,
   "metadata": {},
   "outputs": [],
   "source": [
    "max_area = 0\n",
    "max_slice = (slice(None), slice(None))"
   ]
  },
  {
   "cell_type": "code",
   "execution_count": 113,
   "metadata": {},
   "outputs": [],
   "source": [
    "corners = np.stack(np.where(test_array==0),-1)"
   ]
  },
  {
   "cell_type": "code",
   "execution_count": 114,
   "metadata": {},
   "outputs": [],
   "source": [
    "x, y = corners[0]"
   ]
  },
  {
   "cell_type": "code",
   "execution_count": 115,
   "metadata": {},
   "outputs": [
    {
     "data": {
      "text/plain": [
       "(0, 3)"
      ]
     },
     "execution_count": 115,
     "metadata": {},
     "output_type": "execute_result"
    }
   ],
   "source": [
    "x, y"
   ]
  },
  {
   "cell_type": "code",
   "execution_count": 116,
   "metadata": {},
   "outputs": [
    {
     "data": {
      "text/plain": [
       "(1, 1)"
      ]
     },
     "execution_count": 116,
     "metadata": {},
     "output_type": "execute_result"
    }
   ],
   "source": [
    "row_labels[x,y], col_labels[x,y]"
   ]
  },
  {
   "cell_type": "code",
   "execution_count": 117,
   "metadata": {},
   "outputs": [
    {
     "data": {
      "text/plain": [
       "(0, 0)"
      ]
     },
     "execution_count": 117,
     "metadata": {},
     "output_type": "execute_result"
    }
   ],
   "source": [
    "row_ids[x,y], col_ids[x,y]"
   ]
  },
  {
   "cell_type": "code",
   "execution_count": 125,
   "metadata": {},
   "outputs": [
    {
     "data": {
      "text/plain": [
       "(2, 5)"
      ]
     },
     "execution_count": 125,
     "metadata": {},
     "output_type": "execute_result"
    }
   ],
   "source": [
    "row_label_counts[row_labels[x,y]], col_label_counts[col_labels[x,y]]\n",
    "max_w, max_h = row_label_counts[row_labels[x,y]] - row_ids[x,y], col_label_counts[col_labels[x,y]] - col_ids[x,y]\n",
    "max_w, max_h"
   ]
  },
  {
   "cell_type": "code",
   "execution_count": 130,
   "metadata": {},
   "outputs": [],
   "source": [
    "for i in range(y, y+max_w):\n",
    "    w = i-y+1\n",
    "    h = col_label_counts[col_labels[x,i]] - col_ids[x,i]\n",
    "    max_h = max_h if max_h >= h else h\n",
    "    area = w * max_h\n",
    "    if area > max_area:\n",
    "        max_area = area\n",
    "        max_slice = (slice(x, x+max_h), slice(y, i))\n",
    "        print(i, max_area, max_slice)\n",
    "    elif max_w*max_h <= max_area:\n",
    "        break\n",
    "    "
   ]
  },
  {
   "cell_type": "code",
   "execution_count": 91,
   "metadata": {},
   "outputs": [
    {
     "data": {
      "text/plain": [
       "10"
      ]
     },
     "execution_count": 91,
     "metadata": {},
     "output_type": "execute_result"
    }
   ],
   "source": [
    "max_h * max_w"
   ]
  },
  {
   "cell_type": "code",
   "execution_count": 92,
   "metadata": {},
   "outputs": [
    {
     "data": {
      "text/plain": [
       "True"
      ]
     },
     "execution_count": 92,
     "metadata": {},
     "output_type": "execute_result"
    }
   ],
   "source": [
    "max_h * max_w > max_area"
   ]
  },
  {
   "cell_type": "code",
   "execution_count": 99,
   "metadata": {},
   "outputs": [
    {
     "data": {
      "text/plain": [
       "(5, 5)"
      ]
     },
     "execution_count": 99,
     "metadata": {},
     "output_type": "execute_result"
    }
   ],
   "source": [
    "x + max_w, y + max_h"
   ]
  },
  {
   "cell_type": "code",
   "execution_count": 105,
   "metadata": {},
   "outputs": [
    {
     "data": {
      "text/plain": [
       "5"
      ]
     },
     "execution_count": 105,
     "metadata": {},
     "output_type": "execute_result"
    }
   ],
   "source": [
    "row_labels[5-1,3]"
   ]
  },
  {
   "cell_type": "code",
   "execution_count": 104,
   "metadata": {},
   "outputs": [
    {
     "data": {
      "text/plain": [
       "array([[0, 0, 0, 1, 2, 0],\n",
       "       [3, 4, 5, 1, 2, 0],\n",
       "       [3, 4, 5, 1, 2, 0],\n",
       "       [0, 4, 5, 1, 2, 6],\n",
       "       [0, 4, 5, 1, 2, 6],\n",
       "       [0, 4, 5, 0, 0, 0]], dtype=int32)"
      ]
     },
     "execution_count": 104,
     "metadata": {},
     "output_type": "execute_result"
    }
   ],
   "source": [
    "col_labels"
   ]
  },
  {
   "cell_type": "code",
   "execution_count": 106,
   "metadata": {},
   "outputs": [
    {
     "data": {
      "text/plain": [
       "array([[0, 0, 0, 1, 1, 0],\n",
       "       [2, 2, 2, 2, 2, 0],\n",
       "       [3, 3, 3, 3, 3, 0],\n",
       "       [0, 4, 4, 4, 4, 4],\n",
       "       [0, 5, 5, 5, 5, 5],\n",
       "       [0, 6, 6, 0, 0, 0]], dtype=int32)"
      ]
     },
     "execution_count": 106,
     "metadata": {},
     "output_type": "execute_result"
    }
   ],
   "source": [
    "row_labels"
   ]
  },
  {
   "cell_type": "code",
   "execution_count": 109,
   "metadata": {
    "scrolled": true
   },
   "outputs": [
    {
     "data": {
      "text/plain": [
       "True"
      ]
     },
     "execution_count": 109,
     "metadata": {},
     "output_type": "execute_result"
    }
   ],
   "source": [
    "row_label_counts[5] - row_ids[5-1,3]"
   ]
  },
  {
   "cell_type": "code",
   "execution_count": 112,
   "metadata": {},
   "outputs": [
    {
     "data": {
      "text/plain": [
       "(0, 3, 2, 5)"
      ]
     },
     "execution_count": 112,
     "metadata": {},
     "output_type": "execute_result"
    }
   ],
   "source": [
    "x,y,max_h,max_w"
   ]
  },
  {
   "cell_type": "code",
   "execution_count": 174,
   "metadata": {},
   "outputs": [],
   "source": [
    "from numba import njit, jit"
   ]
  },
  {
   "cell_type": "code",
   "execution_count": 177,
   "metadata": {},
   "outputs": [],
   "source": [
    "def get_max_rect(array):\n",
    "    structure = np.full((3,3), 0)\n",
    "    structure[1] = 1\n",
    "    \n",
    "    row_labels = ndi.label(np.logical_not(array), structure)[0]\n",
    "    col_labels = ndi.label(np.logical_not(array), structure.T)[0]\n",
    "\n",
    "    row_label_counts = np.bincount(row_labels.ravel())\n",
    "    col_label_counts = np.bincount(col_labels.ravel())\n",
    "    \n",
    "    row_ids = np.zeros(array.shape, dtype=int)\n",
    "    row_ids.ravel()[np.argsort(row_labels.ravel(), kind='mergesort')] = np.arange(row_ids.size)\n",
    "    row_ids -= np.cumsum(np.concatenate([[0],row_label_counts[:-1]]))[row_labels]\n",
    "    \n",
    "    col_ids = np.zeros(array.shape, dtype=int)\n",
    "    col_ids.ravel()[np.argsort(col_labels.ravel(), kind='mergesort')] = np.arange(col_ids.size)\n",
    "    col_ids -= np.cumsum(np.concatenate([[0],col_label_counts[:-1]]))[col_labels]\n",
    "    \n",
    "    max_area = 0\n",
    "    max_slice = (slice(None), slice(None))\n",
    "\n",
    "    for x, y in np.stack(np.where(array==0),-1):\n",
    "        max_w, max_h = row_label_counts[row_labels[x,y]] - row_ids[x,y], col_label_counts[col_labels[x,y]] - col_ids[x,y]\n",
    "        if max_w*max_h >= max_area:\n",
    "            for i in range(y, y+max_w):\n",
    "                w = i-y+1\n",
    "                h = col_label_counts[col_labels[x,i]] - col_ids[x,i]\n",
    "                max_h = max_h if max_h <= h else h\n",
    "                area = w * max_h\n",
    "                if area > max_area:\n",
    "                    max_area = area\n",
    "                    max_slice = (slice(x, x+max_h), slice(y, i+1))\n",
    "#                     print(i, h, max_h, max_area, max_slice)\n",
    "                elif max_w*max_h <= max_area:\n",
    "                    break\n",
    "    \n",
    "    return max_area, max_slice\n",
    "\n",
    "    "
   ]
  },
  {
   "cell_type": "code",
   "execution_count": 178,
   "metadata": {},
   "outputs": [],
   "source": [
    "area, slices = get_max_rect(test_array)"
   ]
  },
  {
   "cell_type": "code",
   "execution_count": 179,
   "metadata": {},
   "outputs": [
    {
     "data": {
      "text/plain": [
       "array([[0., 0., 0., 0.],\n",
       "       [0., 0., 0., 0.],\n",
       "       [0., 0., 0., 0.],\n",
       "       [0., 0., 0., 0.]])"
      ]
     },
     "execution_count": 179,
     "metadata": {},
     "output_type": "execute_result"
    }
   ],
   "source": [
    "test_array[slices]"
   ]
  },
  {
   "cell_type": "code",
   "execution_count": 187,
   "metadata": {},
   "outputs": [],
   "source": [
    "new_test = np.random.rand(200,200)>0.9"
   ]
  },
  {
   "cell_type": "code",
   "execution_count": 188,
   "metadata": {},
   "outputs": [],
   "source": [
    "_, test_slice = get_max_rect(new_test)"
   ]
  },
  {
   "cell_type": "code",
   "execution_count": 189,
   "metadata": {},
   "outputs": [
    {
     "data": {
      "text/plain": [
       "<matplotlib.image.AxesImage at 0x7f901084e490>"
      ]
     },
     "execution_count": 189,
     "metadata": {},
     "output_type": "execute_result"
    },
    {
     "data": {
      "image/png": "[encoded data removed]",
      "text/plain": [
       "<Figure size 432x288 with 1 Axes>"
      ]
     },
     "metadata": {
      "needs_background": "light"
     },
     "output_type": "display_data"
    }
   ],
   "source": [
    "from matplotlib import pyplot as plt\n",
    "plt.imshow(new_test[test_slice])"
   ]
  },
  {
   "cell_type": "code",
   "execution_count": 186,
   "metadata": {},
   "outputs": [
    {
     "data": {
      "text/plain": [
       "<matplotlib.image.AxesImage at 0x7f9010969cd0>"
      ]
     },
     "execution_count": 186,
     "metadata": {},
     "output_type": "execute_result"
    },
    {
     "data": {
      "image/png": "[encoded data removed]",
      "text/plain": [
       "<Figure size 432x288 with 1 Axes>"
      ]
     },
     "metadata": {
      "needs_background": "light"
     },
     "output_type": "display_data"
    }
   ],
   "source": [
    "new_test[:100,:100] = 0\n",
    "_, test_slice = get_max_rect(new_test)\n",
    "plt.imshow(new_test[test_slice])"
   ]
  },
  {
   "cell_type": "code",
   "execution_count": null,
   "metadata": {},
   "outputs": [],
   "source": []
  }
 ],
 "metadata": {
  "kernelspec": {
   "display_name": "Python 3",
   "language": "python",
   "name": "python3"
  },
  "language_info": {
   "codemirror_mode": {
    "name": "ipython",
    "version": 3
   },
   "file_extension": ".py",
   "mimetype": "text/x-python",
   "name": "python",
   "nbconvert_exporter": "python",
   "pygments_lexer": "ipython3",
   "version": "3.7.6"
  }
 },
 "nbformat": 4,
 "nbformat_minor": 4
}
